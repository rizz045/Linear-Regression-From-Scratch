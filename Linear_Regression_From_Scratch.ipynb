{
  "nbformat": 4,
  "nbformat_minor": 0,
  "metadata": {
    "colab": {
      "provenance": []
    },
    "kernelspec": {
      "name": "python3",
      "display_name": "Python 3"
    },
    "language_info": {
      "name": "python"
    }
  },
  "cells": [
    {
      "cell_type": "markdown",
      "source": [
        "A simple implementation of Linear Regression from scratch using Python and NumPy. This project demonstrates key concepts like gradient descent, cost function, and model evaluation without relying on machine learning libraries like scikit-learn. Ideal for learning fundamentals.\n"
      ],
      "metadata": {
        "id": "c3juYqJ7ejI0"
      }
    },
    {
      "cell_type": "code",
      "source": [
        "# Importing important libraries\n",
        "import numpy as np\n",
        "import pandas as pd\n",
        "import statistics as stats"
      ],
      "metadata": {
        "id": "NZ_865i9eoPE"
      },
      "execution_count": 3,
      "outputs": []
    },
    {
      "cell_type": "code",
      "source": [],
      "metadata": {
        "id": "9CRvixAmezNU"
      },
      "execution_count": null,
      "outputs": []
    }
  ]
}